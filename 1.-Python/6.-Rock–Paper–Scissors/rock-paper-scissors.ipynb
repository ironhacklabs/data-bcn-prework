{
 "cells": [
  {
   "cell_type": "markdown",
   "metadata": {},
   "source": [
    "<img src=\"https://bit.ly/2VnXWr2\" width=\"100\" align=\"left\">"
   ]
  },
  {
   "cell_type": "markdown",
   "metadata": {},
   "source": [
    "# Rock, Paper & Scissors\n",
    "\n",
    "Let's play the famous game against our computer. You can check the rules [here](https://en.wikipedia.org/wiki/Rock%E2%80%93paper%E2%80%93scissors). \n",
    "\n",
    "## Task\n",
    "Create a program that imitates the playability of the well known game of rock, paper, scissors. Follow the guidelines provided.\n",
    "\n",
    "## Tools\n",
    "1. Loop: **for/while**\n",
    "2. Functions: **input(), print()...**\n",
    "3. Conditional statements: **if, elif, else**\n",
    "4. Definition of functions. Modular programming\n",
    "5. Import modules\n",
    "\n",
    "**To solve this challenge, the use of functions is recommended.**\n",
    "\n",
    "#### 1. Import the choice function of the random module."
   ]
  },
  {
   "cell_type": "code",
   "execution_count": 1,
   "metadata": {},
   "outputs": [],
   "source": [
    "from random import choice"
   ]
  },
  {
   "cell_type": "markdown",
   "metadata": {},
   "source": [
    "#### 2. Create a list that includes the 3 possible gesture options of the game: 'rock', 'paper' or 'scissors'. Store the list in a variable called `gestures`."
   ]
  },
  {
   "cell_type": "code",
   "execution_count": 2,
   "metadata": {},
   "outputs": [],
   "source": [
    "gestures=['rock','paper','scissors']"
   ]
  },
  {
   "cell_type": "markdown",
   "metadata": {},
   "source": [
    "#### 3. Create a variable called `n_rounds` to store the maximum number of rounds to play in a game. \n",
    "Remember that the number of rounds must be odd: 1, 3, 5, ..."
   ]
  },
  {
   "cell_type": "code",
   "execution_count": 3,
   "metadata": {},
   "outputs": [],
   "source": [
    "n_rounds=7"
   ]
  },
  {
   "cell_type": "markdown",
   "metadata": {},
   "source": [
    "#### 4. Create a variable called `rounds_to_win` to store the number of rounds that a player must win to win the game.\n",
    "**Hint**: the value stored in `rounds_to_win` depends on the value of `n_rounds`. "
   ]
  },
  {
   "cell_type": "code",
   "execution_count": 4,
   "metadata": {},
   "outputs": [],
   "source": [
    "rounds_to_win=int(n_rounds/2+1)"
   ]
  },
  {
   "cell_type": "markdown",
   "metadata": {},
   "source": [
    "#### 5. Create two variables to store the number of rounds that the computer and the player have won. Call these variables `cpu_score` and `player_score`."
   ]
  },
  {
   "cell_type": "code",
   "execution_count": 5,
   "metadata": {},
   "outputs": [],
   "source": [
    "cpu_score=0\n",
    "player_score=0"
   ]
  },
  {
   "cell_type": "markdown",
   "metadata": {},
   "source": [
    "#### 6. Define a function that randomly returns one of the 3 gesture options.\n",
    "You will use this function to simulate the gesture choice of the computer. "
   ]
  },
  {
   "cell_type": "code",
   "execution_count": 6,
   "metadata": {},
   "outputs": [],
   "source": [
    "def computer_play(gesture_list):\n",
    "    return choice(gesture_list)    "
   ]
  },
  {
   "cell_type": "markdown",
   "metadata": {},
   "source": [
    "#### 7. Define a function that asks the player which is the gesture he or she wants to show: 'rock', 'paper' or 'scissors'.\n",
    "The player should only be allowed to choose one of the 3 gesture options. If the player's choice is not rock, paper or scissors, keep asking until it is."
   ]
  },
  {
   "cell_type": "code",
   "execution_count": 7,
   "metadata": {},
   "outputs": [],
   "source": [
    "def human_play():\n",
    "    human_choice=''\n",
    "    while human_choice not in gestures:\n",
    "        human_choice=input('What is your option (rock/paper/scissors)?')\n",
    "    return human_choice"
   ]
  },
  {
   "cell_type": "markdown",
   "metadata": {},
   "source": [
    "#### 8. Define a function that checks who won a round. \n",
    "The function should return 0 if there is a tie, 1 if the computer wins and 2 if the player wins."
   ]
  },
  {
   "cell_type": "code",
   "execution_count": 8,
   "metadata": {},
   "outputs": [],
   "source": [
    "def who_wins(computer_pl,human_pl):\n",
    "\n",
    "    play_to_number={'rock':0,'paper':1,'scissors':2}\n",
    "    \n",
    "    nb_comp_play=play_to_number[computer_pl]\n",
    "    nb_human_play=play_to_number[human_pl]\n",
    "    \n",
    "    result_matrix = [[0 for x in range(3)] for y in range(3)] # sets a matrix size 3x3 to fill with the possible outcomes of a round (a list of 3 lists containing 3 results each)\n",
    "    \n",
    "    #Ties already at 0 so no need to configure\n",
    "    #Computer Rock vs. Human\n",
    "    result_matrix[0][1]=2\n",
    "    result_matrix[0][2]=1\n",
    "       \n",
    "    #Computer Paper vs. Human\n",
    "    result_matrix[1][0]=1\n",
    "    result_matrix[1][2]=2\n",
    "    \n",
    "    #Computer Scissors vs. Human\n",
    "    result_matrix[2][0]=2\n",
    "    result_matrix[2][1]=1\n",
    "    \n",
    "    return result_matrix[nb_comp_play][nb_human_play]"
   ]
  },
  {
   "cell_type": "markdown",
   "metadata": {},
   "source": [
    "#### 9. Define a function that prints the choice of the computer, the choice of the player and a message that announces who won the current round. \n",
    "You should also use this function to update the variables that count the number of rounds that the computer and the player have won. The score of the winner increases by one point. If there is a tie, the score does not increase."
   ]
  },
  {
   "cell_type": "code",
   "execution_count": 9,
   "metadata": {},
   "outputs": [],
   "source": [
    "def print_outcome(computer_pl,human_pl):\n",
    "    print('Computer played:',computer_pl)\n",
    "    print('Human played:', human_pl)\n",
    "    result=who_wins(computer_pl,human_pl)\n",
    "    if result==0:\n",
    "        print('It´s a tie for this round')\n",
    "    elif result==1:\n",
    "        print('Computer wins this round')\n",
    "    else:\n",
    "        print('Human wins this round')\n",
    "    return result"
   ]
  },
  {
   "cell_type": "markdown",
   "metadata": {},
   "source": [
    "#### 10. Now it's time to code the execution of the game using the functions and variables you defined above. \n",
    "\n",
    "First, create a loop structure that repeats while no player reaches the minimum score necessary to win and the number of rounds is less than the maximum number of rounds to play in a game.  \n",
    "\n",
    "Inside the loop, use the functions and variables above to create the execution of a round: ask for the player's choice, generate the random choice of the computer, show the round results, update the scores, etc. "
   ]
  },
  {
   "cell_type": "code",
   "execution_count": 10,
   "metadata": {},
   "outputs": [
    {
     "name": "stdout",
     "output_type": "stream",
     "text": [
      "What is your option (rock/paper/scissors)?rock\n",
      "Computer played: rock\n",
      "Human played: rock\n",
      "It´s a tie for this round\n",
      "What is your option (rock/paper/scissors)?paper\n",
      "Computer played: paper\n",
      "Human played: paper\n",
      "It´s a tie for this round\n",
      "What is your option (rock/paper/scissors)?scissors\n",
      "Computer played: rock\n",
      "Human played: scissors\n",
      "Computer wins this round\n",
      "What is your option (rock/paper/scissors)?erro\n",
      "What is your option (rock/paper/scissors)?344\n",
      "What is your option (rock/paper/scissors)?rock\n",
      "Computer played: scissors\n",
      "Human played: rock\n",
      "Human wins this round\n",
      "What is your option (rock/paper/scissors)?paper\n",
      "Computer played: paper\n",
      "Human played: paper\n",
      "It´s a tie for this round\n",
      "What is your option (rock/paper/scissors)?scissors\n",
      "Computer played: scissors\n",
      "Human played: scissors\n",
      "It´s a tie for this round\n",
      "What is your option (rock/paper/scissors)?scissors\n",
      "Computer played: rock\n",
      "Human played: scissors\n",
      "Computer wins this round\n"
     ]
    }
   ],
   "source": [
    "n=0\n",
    "while (n<n_rounds and max(cpu_score,player_score)<rounds_to_win):\n",
    "    human_pl=human_play()\n",
    "    computer_pl=computer_play(gestures)\n",
    "    result=print_outcome(computer_pl,human_pl)\n",
    "    n+=1\n",
    "    if result==1:\n",
    "        cpu_score+=1\n",
    "    elif result==2:\n",
    "        player_score+=1\n",
    "        "
   ]
  },
  {
   "cell_type": "markdown",
   "metadata": {},
   "source": [
    "#### 11. Print the winner of the game based on who won more rounds.\n",
    "Remember that the game might be tied. "
   ]
  },
  {
   "cell_type": "code",
   "execution_count": 11,
   "metadata": {},
   "outputs": [
    {
     "name": "stdout",
     "output_type": "stream",
     "text": [
      "Computer Wins the Game\n"
     ]
    }
   ],
   "source": [
    "if player_score>cpu_score:\n",
    "    print('Human Wins the Game')\n",
    "elif player_score<cpu_score:\n",
    "    print('Computer Wins the Game')\n",
    "else:\n",
    "    print('It´s a Tie')"
   ]
  },
  {
   "cell_type": "markdown",
   "metadata": {},
   "source": [
    "# Bonus: Rock, Paper, Scissors, Lizard & Spock\n",
    "![](images/rpsls.jpg)\n",
    "\n",
    "In this challenge, you need to improve the previous game by adding two new options. To know more about the rules of the improved version of rock, paper, scissors, check this [link](http://www.samkass.com/theories/RPSSL.html). \n",
    "\n",
    "In addition, you will also need to improve how the game interacts with the player: the number of rounds to play, which must be an odd number, will be requested to the user until a valid number is entered. Define a new function to make that request.\n",
    "\n",
    "**Hint**: Try to reuse the code that you already coded in the previous challenge. If your code is efficient, this bonus will only consist of simple modifications to the original game."
   ]
  },
  {
   "cell_type": "code",
   "execution_count": 12,
   "metadata": {},
   "outputs": [
    {
     "name": "stdout",
     "output_type": "stream",
     "text": [
      "Enter ODD number of rounds24\n",
      "Enter ODD number of rounds13\n",
      "What is your option (rock/paper/scissors/lizzard/spock)?rock\n",
      "Human played: rock\n",
      "Computer played: paper\n",
      "Computer wins this round\n",
      "What is your option (rock/paper/scissors/lizzard/spock)?paper\n",
      "Human played: paper\n",
      "Computer played: scissors\n",
      "Computer wins this round\n",
      "What is your option (rock/paper/scissors/lizzard/spock)?scissors\n",
      "Human played: scissors\n",
      "Computer played: spock\n",
      "Computer wins this round\n",
      "What is your option (rock/paper/scissors/lizzard/spock)?lizzard\n",
      "Human played: lizzard\n",
      "Computer played: rock\n",
      "Computer wins this round\n",
      "What is your option (rock/paper/scissors/lizzard/spock)?jhh\n",
      "What is your option (rock/paper/scissors/lizzard/spock)?spock\n",
      "Human played: spock\n",
      "Computer played: scissors\n",
      "Human wins this round\n",
      "What is your option (rock/paper/scissors/lizzard/spock)?rock\n",
      "Human played: rock\n",
      "Computer played: rock\n",
      "It´s a tie for this round\n",
      "What is your option (rock/paper/scissors/lizzard/spock)?paper\n",
      "Human played: paper\n",
      "Computer played: spock\n",
      "Human wins this round\n",
      "What is your option (rock/paper/scissors/lizzard/spock)?scissors\n",
      "Human played: scissors\n",
      "Computer played: lizzard\n",
      "Human wins this round\n",
      "What is your option (rock/paper/scissors/lizzard/spock)?lizzard\n",
      "Human played: lizzard\n",
      "Computer played: rock\n",
      "Computer wins this round\n",
      "What is your option (rock/paper/scissors/lizzard/spock)?spock\n",
      "Human played: spock\n",
      "Computer played: spock\n",
      "It´s a tie for this round\n",
      "What is your option (rock/paper/scissors/lizzard/spock)?rock\n",
      "Human played: rock\n",
      "Computer played: paper\n",
      "Computer wins this round\n",
      "What is your option (rock/paper/scissors/lizzard/spock)?paper\n",
      "Human played: paper\n",
      "Computer played: lizzard\n",
      "Computer wins this round\n",
      "Computer Wins the Game\n"
     ]
    }
   ],
   "source": [
    "from random import choice\n",
    "\n",
    "gestures=['rock','paper','scissors','lizzard','spock']\n",
    "\n",
    "def nb_rounds():\n",
    "    n_rounds=0\n",
    "    while int(n_rounds)%2==0:\n",
    "        n_rounds=input('Enter ODD number of rounds')\n",
    "    return int(n_rounds)\n",
    "\n",
    "def computer_play(gesture_list):\n",
    "    return choice(gesture_list)    \n",
    "\n",
    "def human_play():\n",
    "    human_choice=''\n",
    "    while human_choice not in gestures:\n",
    "        human_choice=input('What is your option (rock/paper/scissors/lizzard/spock)?')\n",
    "    return human_choice\n",
    "\n",
    "def who_wins(computer_pl,human_pl):\n",
    "\n",
    "    play_to_number={'rock':0,'paper':1,'scissors':2,'lizzard':3,'spock':4}\n",
    "    \n",
    "    nb_comp_play=play_to_number[computer_pl]\n",
    "    nb_human_play=play_to_number[human_pl]\n",
    "    \n",
    "    result_matrix = [[0 for x in range(5)] for y in range(5)] # sets a matrix size 5x5 to fill with the possible outcomes of a round (a list of 5 lists containing 5 results each)\n",
    "    \n",
    "    #Ties already at 0 so no need to configure\n",
    "    #Computer Rock vs. Human\n",
    "    result_matrix[0][1]=2\n",
    "    result_matrix[0][2]=1\n",
    "    result_matrix[0][3]=1\n",
    "    result_matrix[0][4]=2\n",
    "       \n",
    "    #Computer Paper vs. Human\n",
    "    result_matrix[1][0]=1\n",
    "    result_matrix[1][2]=2\n",
    "    result_matrix[1][3]=2\n",
    "    result_matrix[1][4]=1\n",
    "    \n",
    "    #Computer Scissors vs. Human\n",
    "    result_matrix[2][0]=2\n",
    "    result_matrix[2][1]=1\n",
    "    result_matrix[2][3]=1\n",
    "    result_matrix[2][4]=2\n",
    "    \n",
    "    #Computer Lizzard vs. Human\n",
    "    result_matrix[3][0]=2\n",
    "    result_matrix[3][1]=1\n",
    "    result_matrix[3][2]=2\n",
    "    result_matrix[3][4]=1\n",
    "    \n",
    "    #Computer Spock vs. Human\n",
    "    result_matrix[4][0]=1\n",
    "    result_matrix[4][1]=2\n",
    "    result_matrix[4][2]=1\n",
    "    result_matrix[4][3]=2\n",
    "    \n",
    "    return result_matrix[nb_comp_play][nb_human_play]\n",
    "\n",
    "def print_outcome(computer_pl,human_pl):\n",
    "    print('Human played:', human_pl)\n",
    "    print('Computer played:',computer_pl)\n",
    "    result=who_wins(computer_pl,human_pl)\n",
    "    if result==0:\n",
    "        print('It´s a tie for this round')\n",
    "    elif result==1:\n",
    "        print('Computer wins this round')\n",
    "    else:\n",
    "        print('Human wins this round')\n",
    "    return result\n",
    "\n",
    "n=0\n",
    "cpu_score=0\n",
    "player_score=0\n",
    "n_rounds=nb_rounds()\n",
    "rounds_to_win=int(n_rounds/2+1)\n",
    "\n",
    "while (n<n_rounds and max(cpu_score,player_score)<rounds_to_win):\n",
    "    human_pl=human_play()\n",
    "    computer_pl=computer_play(gestures)\n",
    "    result=print_outcome(computer_pl,human_pl)\n",
    "    n+=1\n",
    "    if result==1:\n",
    "        cpu_score+=1\n",
    "    elif result==2:\n",
    "        player_score+=1\n",
    "\n",
    "if player_score>cpu_score:\n",
    "    print('Human Wins the Game')\n",
    "elif player_score<cpu_score:\n",
    "    print('Computer Wins the Game')\n",
    "else:\n",
    "    print('It´s a Tie')"
   ]
  }
 ],
 "metadata": {
  "kernelspec": {
   "display_name": "Python 3",
   "language": "python",
   "name": "python3"
  },
  "language_info": {
   "codemirror_mode": {
    "name": "ipython",
    "version": 3
   },
   "file_extension": ".py",
   "mimetype": "text/x-python",
   "name": "python",
   "nbconvert_exporter": "python",
   "pygments_lexer": "ipython3",
   "version": "3.7.4"
  }
 },
 "nbformat": 4,
 "nbformat_minor": 2
}
