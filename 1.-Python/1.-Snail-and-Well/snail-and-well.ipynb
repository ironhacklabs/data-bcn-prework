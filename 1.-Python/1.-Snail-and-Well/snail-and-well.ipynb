{
 "cells": [
  {
   "cell_type": "markdown",
   "metadata": {},
   "source": [
    "<img src=\"https://bit.ly/2VnXWr2\" width=\"100\" align=\"left\">"
   ]
  },
  {
   "cell_type": "markdown",
   "metadata": {},
   "source": [
    "# The Snail and the Well\n",
    "\n",
    "A snail falls at the bottom of a 125 cm well. Each day the snail rises 30 cm. But at night, while sleeping, slides 20 cm because the walls are wet. How many days does it take for the snail to escape the well?\n",
    "\n",
    "**Hint**: The snail gets out of the well when it surpasses the 125cm of height.\n",
    "\n",
    "## Tools\n",
    "\n",
    "1. Loop: **while**\n",
    "2. Conditional statements: **if-else**\n",
    "3. Function: **print()**\n",
    "\n",
    "## Tasks\n",
    "\n",
    "#### 1. Assign the challenge data to variables with representative names: `well_height`, `daily_distance`, `nightly_distance` and `snail_position`."
   ]
  },
  {
   "cell_type": "code",
   "execution_count": 1,
   "metadata": {},
   "outputs": [],
   "source": [
    "well_height=125\n",
    "daily_distance=30\n",
    "nightly_distance=20\n",
    "snail_position=0"
   ]
  },
  {
   "cell_type": "markdown",
   "metadata": {},
   "source": [
    "#### 2. Create a variable `days` to keep count of the days that pass until the snail escapes the well. "
   ]
  },
  {
   "cell_type": "code",
   "execution_count": 2,
   "metadata": {},
   "outputs": [],
   "source": [
    "days=0 #snail starts at the bottom on day 0"
   ]
  },
  {
   "cell_type": "markdown",
   "metadata": {},
   "source": [
    "#### 3. Find the solution to the challenge using the variables defined above. "
   ]
  },
  {
   "cell_type": "code",
   "execution_count": 3,
   "metadata": {},
   "outputs": [],
   "source": [
    "while snail_position<well_height:\n",
    "    days+=1 # another day passes...\n",
    "    snail_position+=daily_distance #distance walked during the day\n",
    "    if snail_position<well_height: #if after walking daily distance it´s still in the well...\n",
    "        snail_position-=nightly_distance #subtract nightly drop\n",
    "    else: #means that it reached the top during that day\n",
    "        break"
   ]
  },
  {
   "cell_type": "markdown",
   "metadata": {},
   "source": [
    "#### 4. Print the solution."
   ]
  },
  {
   "cell_type": "code",
   "execution_count": 4,
   "metadata": {},
   "outputs": [
    {
     "name": "stdout",
     "output_type": "stream",
     "text": [
      "The snail takes 11 days to escape the well\n"
     ]
    }
   ],
   "source": [
    "print('The snail takes {} days to escape the well'.format(days))"
   ]
  },
  {
   "cell_type": "markdown",
   "metadata": {},
   "source": [
    "## Bonus\n",
    "The distance traveled by the snail each day is now defined by a list.\n",
    "```\n",
    "advance_cm = [30, 21, 33, 77, 44, 45, 23, 45, 12, 34, 55]\n",
    "```\n",
    "On the first day, the snail rises 30cm but during the night it slides 20cm. On the second day, the snail rises 21cm but during the night it slides 20cm, and so on. \n",
    "\n",
    "#### 1. How many days does it take for the snail to escape the well?\n",
    "Follow the same guidelines as in the previous challenge.\n",
    "\n",
    "**Hint**: Remember that the snail gets out of the well when it surpasses the 125cm of height."
   ]
  },
  {
   "cell_type": "code",
   "execution_count": 5,
   "metadata": {},
   "outputs": [
    {
     "name": "stdout",
     "output_type": "stream",
     "text": [
      "The snail takes 5 days to escape the well\n"
     ]
    }
   ],
   "source": [
    "days=0 #snail starts at the bottom on day 0\n",
    "snail_position=0\n",
    "advance_cm = [30, 21, 33, 77, 44, 45, 23, 45, 12, 34, 55]\n",
    "i=0\n",
    "\n",
    "while snail_position<well_height:\n",
    "    days+=1 # another day passes...\n",
    "    snail_position+=advance_cm[i]#distance walked during the day\n",
    "    i+=1 #increment distance list\n",
    "    if snail_position<well_height: #if after walking daily distance it´s still in the well...\n",
    "        snail_position-=nightly_distance #subtract nightly drop\n",
    "    else: #means that it reached the top during that day\n",
    "        break\n",
    "        \n",
    "print('The snail takes {} days to escape the well'.format(days))"
   ]
  },
  {
   "cell_type": "markdown",
   "metadata": {},
   "source": [
    "#### 2. What is its maximum displacement in one day? And its minimum? Calculate the displacement using only the travel distance of the days used to get out of the well. \n",
    "**Hint**: Remember that displacement means the total distance risen taking into account that the snail slides at night.  "
   ]
  },
  {
   "cell_type": "code",
   "execution_count": 6,
   "metadata": {},
   "outputs": [
    {
     "name": "stdout",
     "output_type": "stream",
     "text": [
      "The maximum displacement is 57 cm and the minimum displacement is 1 cm.\n"
     ]
    }
   ],
   "source": [
    "days=0 #snail starts at the bottom on day 0\n",
    "snail_position=0\n",
    "advance_cm = [30, 21, 33, 77, 44, 45, 23, 45, 12, 34, 55]\n",
    "i=0\n",
    "displacement=[]\n",
    "\n",
    "while snail_position<well_height:\n",
    "    days+=1 # another day passes...\n",
    "    snail_position+=advance_cm[i]#distance walked during the day\n",
    "    if snail_position<well_height: #if after walking daily distance it´s still in the well...\n",
    "        snail_position-=nightly_distance #subtract nightly drop\n",
    "    else: #means that it reached the top during that day\n",
    "        displacement.append(advance_cm[i]) # in this situation there is no nightly distance to subtract since the snail escaped\n",
    "        break\n",
    "    displacement.append(advance_cm[i]-nightly_distance)\n",
    "    i+=1 #increment distance list\n",
    "    \n",
    "print('The maximum displacement is {} cm and the minimum displacement is {} cm.'.format(max(displacement),min(displacement)))"
   ]
  },
  {
   "cell_type": "markdown",
   "metadata": {},
   "source": [
    "#### 3. What is its average progress? Take into account the snail slides at night."
   ]
  },
  {
   "cell_type": "code",
   "execution_count": 7,
   "metadata": {},
   "outputs": [
    {
     "name": "stdout",
     "output_type": "stream",
     "text": [
      "The average progress is 25.0 cm\n"
     ]
    }
   ],
   "source": [
    "print ('The average progress is {} cm'.format(sum(displacement)/len(displacement))) "
   ]
  },
  {
   "cell_type": "markdown",
   "metadata": {},
   "source": [
    "#### 4. What is the standard deviation of its displacement? Take into account the snail slides at night."
   ]
  },
  {
   "cell_type": "code",
   "execution_count": 20,
   "metadata": {},
   "outputs": [
    {
     "name": "stdout",
     "output_type": "stream",
     "text": [
      "The standard deviation (manually calculated) of displacement is 21.587033144922902 cm\n",
      "The standard deviation (calculated from statistics library) of displacement is 24.13503677229434 cm\n"
     ]
    },
    {
     "data": {
      "text/plain": [
       "'the difference is due to the fact that the manual calculation assumes the given values constitute the total population\\nwhereas the statistics library uses the formula assuming an infinite population.'"
      ]
     },
     "execution_count": 20,
     "metadata": {},
     "output_type": "execute_result"
    }
   ],
   "source": [
    "import statistics\n",
    "\n",
    "displacement_avg=sum(displacement)/len(displacement)\n",
    "displacement_sq_avg=sum([i**2 for i in displacement])/len([i**2 for i in displacement])\n",
    "\n",
    "stdev_displacement=(displacement_sq_avg-displacement_avg**2)**0.5 # calculation according to stdev formula\n",
    "\n",
    "print('The standard deviation (manually calculated) of displacement is {} cm'.format(stdev_displacement))\n",
    "\n",
    "print ('The standard deviation (calculated from statistics library) of displacement is {} cm'.format(statistics.stdev(displacement)))\n",
    "\n",
    "#the difference is due to the fact that the manual calculation assumes the given values constitute\n",
    "#the total population whereas the statistics library uses the formula assuming an infinite population\n"
   ]
  }
 ],
 "metadata": {
  "kernelspec": {
   "display_name": "Python 3",
   "language": "python",
   "name": "python3"
  },
  "language_info": {
   "codemirror_mode": {
    "name": "ipython",
    "version": 3
   },
   "file_extension": ".py",
   "mimetype": "text/x-python",
   "name": "python",
   "nbconvert_exporter": "python",
   "pygments_lexer": "ipython3",
   "version": "3.7.4"
  }
 },
 "nbformat": 4,
 "nbformat_minor": 2
}
